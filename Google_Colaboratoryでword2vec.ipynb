{
  "nbformat": 4,
  "nbformat_minor": 0,
  "metadata": {
    "colab": {
      "name": "Google Colaboratoryでword2vec",
      "provenance": [],
      "authorship_tag": "ABX9TyP6hfDaLGQDoqG21GViXFdq",
      "include_colab_link": true
    },
    "kernelspec": {
      "name": "python3",
      "display_name": "Python 3"
    }
  },
  "cells": [
    {
      "cell_type": "markdown",
      "metadata": {
        "id": "view-in-github",
        "colab_type": "text"
      },
      "source": [
        "<a href=\"https://colab.research.google.com/github/opticalcode/Introduction-to-natural-language-processing/blob/master/Google_Colaboratory%E3%81%A7word2vec.ipynb\" target=\"_parent\"><img src=\"https://colab.research.google.com/assets/colab-badge.svg\" alt=\"Open In Colab\"/></a>"
      ]
    },
    {
      "cell_type": "markdown",
      "metadata": {
        "id": "GNhzAp5w4WKt",
        "colab_type": "text"
      },
      "source": [
        "# mecab準備"
      ]
    },
    {
      "cell_type": "code",
      "metadata": {
        "id": "finViPzU4cwG",
        "colab_type": "code",
        "colab": {
          "base_uri": "https://localhost:8080/",
          "height": 51
        },
        "outputId": "ad11ce05-5ff9-4efa-da22-1578f089e8aa"
      },
      "source": [
        "!apt-get -q -y install sudo file mecab libmecab-dev mecab-ipadic-utf8 git curl python-mecab > /dev/null\n",
        "!git clone --depth 1 https://github.com/neologd/mecab-ipadic-neologd.git > /dev/null \n",
        "!echo yes | mecab-ipadic-neologd/bin/install-mecab-ipadic-neologd -n > /dev/null 2>&1\n",
        "!pip install mecab-python3 > /dev/null\n",
        "!echo mecab-config --dicdir\"/mecab-ipadic-neologd\""
      ],
      "execution_count": 14,
      "outputs": [
        {
          "output_type": "stream",
          "text": [
            "fatal: destination path 'mecab-ipadic-neologd' already exists and is not an empty directory.\n",
            "mecab-config --dicdir/mecab-ipadic-neologd\n"
          ],
          "name": "stdout"
        }
      ]
    },
    {
      "cell_type": "markdown",
      "metadata": {
        "id": "lDg2HfzZ5Wrf",
        "colab_type": "text"
      },
      "source": [
        "# 分かち書き"
      ]
    },
    {
      "cell_type": "code",
      "metadata": {
        "id": "g_AJhLjf0z6F",
        "colab_type": "code",
        "colab": {
          "base_uri": "https://localhost:8080/",
          "height": 51
        },
        "outputId": "53613f51-12df-459b-b5a1-dec3c790754c"
      },
      "source": [
        "import MeCab\n",
        "m = MeCab.Tagger('-Owakati')\n",
        "result = m.parse('絞ったばかりの夕日の赤が、水平線から漏れている')\n",
        "print(result)"
      ],
      "execution_count": 15,
      "outputs": [
        {
          "output_type": "stream",
          "text": [
            "絞っ た ばかり の 夕日 の 赤 が 、 水平 線 から 漏れ て いる \n",
            "\n"
          ],
          "name": "stdout"
        }
      ]
    },
    {
      "cell_type": "markdown",
      "metadata": {
        "id": "Iy124BDO5fuR",
        "colab_type": "text"
      },
      "source": [
        "# NEologd辞書による分かち書き修正"
      ]
    },
    {
      "cell_type": "code",
      "metadata": {
        "id": "bNPTmFDH14Tl",
        "colab_type": "code",
        "colab": {
          "base_uri": "https://localhost:8080/",
          "height": 51
        },
        "outputId": "553c6cd2-71dc-4e3f-87af-f06779254b92"
      },
      "source": [
        "import MeCab\n",
        "m = MeCab.Tagger('-Owakati -d /usr/lib/x86_64-linux-gnu/mecab/dic/mecab-ipadic-neologd')\n",
        "result = m.parse('絞ったばかりの夕日の赤が、水平線から漏れている')\n",
        "print(result)"
      ],
      "execution_count": 16,
      "outputs": [
        {
          "output_type": "stream",
          "text": [
            "絞っ た ばかり の 夕日 の 赤 が 、 水平線 から 漏れ て いる \n",
            "\n"
          ],
          "name": "stdout"
        }
      ]
    },
    {
      "cell_type": "markdown",
      "metadata": {
        "id": "jTKmA0T455zF",
        "colab_type": "text"
      },
      "source": [
        "# 形態素解析"
      ]
    },
    {
      "cell_type": "code",
      "metadata": {
        "id": "3rwdXS9p2el9",
        "colab_type": "code",
        "colab": {
          "base_uri": "https://localhost:8080/",
          "height": 289
        },
        "outputId": "6b685a78-6843-4b50-bb30-18ff89199871"
      },
      "source": [
        "import MeCab\n",
        "path = '-d /usr/lib/x86_64-linux-gnu/mecab/dic/mecab-ipadic-neologd'\n",
        "m = MeCab.Tagger(path)\n",
        "result = m.parse('絞ったばかりの夕日の赤が、水平線から漏れている')\n",
        "print(result)"
      ],
      "execution_count": 17,
      "outputs": [
        {
          "output_type": "stream",
          "text": [
            "絞っ\t動詞,自立,*,*,五段・ラ行,連用タ接続,絞る,シボッ,シボッ\n",
            "た\t助動詞,*,*,*,特殊・タ,基本形,た,タ,タ\n",
            "ばかり\t助詞,副助詞,*,*,*,*,ばかり,バカリ,バカリ\n",
            "の\t助詞,連体化,*,*,*,*,の,ノ,ノ\n",
            "夕日\t名詞,一般,*,*,*,*,夕日,ユウヒ,ユーヒ\n",
            "の\t助詞,連体化,*,*,*,*,の,ノ,ノ\n",
            "赤\t名詞,一般,*,*,*,*,赤,アカ,アカ\n",
            "が\t助詞,格助詞,一般,*,*,*,が,ガ,ガ\n",
            "、\t記号,読点,*,*,*,*,、,、,、\n",
            "水平線\t名詞,固有名詞,一般,*,*,*,水平線,スイヘイセン,スイヘイセン\n",
            "から\t助詞,格助詞,一般,*,*,*,から,カラ,カラ\n",
            "漏れ\t動詞,自立,*,*,一段,連用形,漏れる,モレ,モレ\n",
            "て\t助詞,接続助詞,*,*,*,*,て,テ,テ\n",
            "いる\t動詞,非自立,*,*,一段,基本形,いる,イル,イル\n",
            "EOS\n",
            "\n"
          ],
          "name": "stdout"
        }
      ]
    },
    {
      "cell_type": "markdown",
      "metadata": {
        "id": "YuoctO4Y6S1W",
        "colab_type": "text"
      },
      "source": [
        "# 形態素解析の修正"
      ]
    },
    {
      "cell_type": "code",
      "metadata": {
        "id": "n2dzWJm33XHO",
        "colab_type": "code",
        "colab": {}
      },
      "source": [
        "import MeCab\n",
        "def mecab_tokenizer(text):\n",
        "    m = MeCab.Tagger(\"-d /usr/lib/x86_64-linux-gnu/mecab/dic/mecab-ipadic-neologd\")\n",
        "    node = m.parseToNode(text)\n",
        "    wordtype_list = ['名詞','動詞','形容詞']\n",
        "    subtype_list = [\"数\", \"非自立\", \"代名詞\",\"接尾\"]\n",
        "    output = []\n",
        "    while node:\n",
        "        if node.surface != \"\":\n",
        "            wordtype = node.feature.split(\",\")[0]\n",
        "            subtype = node.feature.split(\",\")[1]\n",
        "            original = node.feature.split(\",\")[6]\n",
        "            if wordtype in wordtype_list and subtype not in subtype_list and original != '*':\n",
        "                output.append(original)\n",
        "        node = node.next\n",
        "        if node is None:\n",
        "            break\n",
        "    return output"
      ],
      "execution_count": 0,
      "outputs": []
    },
    {
      "cell_type": "code",
      "metadata": {
        "id": "W3xgbwL73fAu",
        "colab_type": "code",
        "colab": {
          "base_uri": "https://localhost:8080/",
          "height": 34
        },
        "outputId": "06a32dec-de6b-455b-eb95-037115d85aa9"
      },
      "source": [
        "text = '絞ったばかりの、夕日の赤が水平線から漏れている'\n",
        "mecab_tokenizer(text)"
      ],
      "execution_count": 19,
      "outputs": [
        {
          "output_type": "execute_result",
          "data": {
            "text/plain": [
              "['絞る', '夕日', '赤', '水平線', '漏れる']"
            ]
          },
          "metadata": {
            "tags": []
          },
          "execution_count": 19
        }
      ]
    },
    {
      "cell_type": "markdown",
      "metadata": {
        "id": "CHFU4Sr56q-p",
        "colab_type": "text"
      },
      "source": [
        "# 夏目漱石「吾輩は猫である」インポート"
      ]
    },
    {
      "cell_type": "code",
      "metadata": {
        "id": "Rbyfvuh262fs",
        "colab_type": "code",
        "colab": {
          "resources": {
            "http://localhost:8080/nbextensions/google.colab/files.js": {
              "data": "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",
              "ok": true,
              "headers": [
                [
                  "content-type",
                  "application/javascript"
                ]
              ],
              "status": 200,
              "status_text": ""
            }
          },
          "base_uri": "https://localhost:8080/",
          "height": 79
        },
        "outputId": "41237344-52ed-47cc-c9b2-1f521044019f"
      },
      "source": [
        "from google.colab import files\n",
        "uploaded = files.upload()"
      ],
      "execution_count": 20,
      "outputs": [
        {
          "output_type": "display_data",
          "data": {
            "text/html": [
              "\n",
              "     <input type=\"file\" id=\"files-ee0b3653-2ec5-4842-9e80-aacd3ca013cd\" name=\"files[]\" multiple disabled />\n",
              "     <output id=\"result-ee0b3653-2ec5-4842-9e80-aacd3ca013cd\">\n",
              "      Upload widget is only available when the cell has been executed in the\n",
              "      current browser session. Please rerun this cell to enable.\n",
              "      </output>\n",
              "      <script src=\"/nbextensions/google.colab/files.js\"></script> "
            ],
            "text/plain": [
              "<IPython.core.display.HTML object>"
            ]
          },
          "metadata": {
            "tags": []
          }
        },
        {
          "output_type": "stream",
          "text": [
            "Saving wagahaiwa_nekodearu.txt to wagahaiwa_nekodearu.txt\n"
          ],
          "name": "stdout"
        }
      ]
    },
    {
      "cell_type": "markdown",
      "metadata": {
        "id": "mAGSsj1o7YSu",
        "colab_type": "text"
      },
      "source": [
        "# 表示する行を指定する"
      ]
    },
    {
      "cell_type": "code",
      "metadata": {
        "id": "wuBJAejW7eQx",
        "colab_type": "code",
        "colab": {}
      },
      "source": [
        "with open('wagahaiwa_nekodearu.txt', mode='rt', encoding='cp932') as rf:\n",
        "    with open('吾輩は猫である.txt', mode='wt', encoding='cp932') as wf:\n",
        "        for i, line in enumerate(rf):\n",
        "            if i > 23 and 2358 >= i:\n",
        "                wf.write(line)"
      ],
      "execution_count": 0,
      "outputs": []
    },
    {
      "cell_type": "code",
      "metadata": {
        "id": "6YrKF0HE7i8T",
        "colab_type": "code",
        "colab": {
          "base_uri": "https://localhost:8080/",
          "height": 122
        },
        "outputId": "4723c2f4-9fb3-4161-8944-e38d80080591"
      },
      "source": [
        "with open('吾輩は猫である.txt', mode='rt', encoding='cp932') as rf:\n",
        "    for i, line in enumerate(rf):\n",
        "        if i < 5: # この数字を変えることで表示する行数が変化\n",
        "            print(line.strip())"
      ],
      "execution_count": 24,
      "outputs": [
        {
          "output_type": "stream",
          "text": [
            "吾輩《わがはい》は猫である。名前はまだ無い。\n",
            "どこで生れたかとんと見当《けんとう》がつかぬ。何でも薄暗いじめじめした所でニャーニャー泣いていた事だけは記憶している。吾輩はここで始めて人間というものを見た。しかもあとで聞くとそれは書生という人間中で一番｜獰悪《どうあく》な種族であったそうだ。この書生というのは時々我々を捕《つかま》えて煮《に》て食うという話である。しかしその当時は何という考もなかったから別段恐しいとも思わなかった。ただ彼の掌《てのひら》に載せられてスーと持ち上げられた時何だかフワフワした感じがあったばかりである。掌の上で少し落ちついて書生の顔を見たのがいわゆる人間というものの見始《みはじめ》であろう。この時妙なものだと思った感じが今でも残っている。第一毛をもって装飾されべきはずの顔がつるつるしてまるで薬缶《やかん》だ。その後《ご》猫にもだいぶ逢《あ》ったがこんな片輪《かたわ》には一度も出会《でく》わした事がない。のみならず顔の真中があまりに突起している。そうしてその穴の中から時々ぷうぷうと煙《けむり》を吹く。どうも咽《む》せぽくて実に弱った。これが人間の飲む煙草《たばこ》というものである事はようやくこの頃知った。\n",
            "この書生の掌の裏《うち》でしばらくはよい心持に坐っておったが、しばらくすると非常な速力で運転し始めた。書生が動くのか自分だけが動くのか分らないが無暗《むやみ》に眼が廻る。胸が悪くなる。到底《とうてい》助からないと思っていると、どさりと音がして眼から火が出た。それまでは記憶しているがあとは何の事やらいくら考え出そうとしても分らない。\n",
            "ふと気が付いて見ると書生はいない。たくさんおった兄弟が一｜疋《ぴき》も見えぬ。肝心《かんじん》の母親さえ姿を隠してしまった。その上｜今《いま》までの所とは違って無暗《むやみ》に明るい。眼を明いていられぬくらいだ。はてな何でも容子《ようす》がおかしいと、のそのそ這《は》い出して見ると非常に痛い。吾輩は藁《わら》の上から急に笹原の中へ棄てられたのである。\n",
            "ようやくの思いで笹原を這い出すと向うに大きな池がある。吾輩は池の前に坐ってどうしたらよかろうと考えて見た。別にこれという分別《ふんべつ》も出ない。しばらくして泣いたら書生がまた迎に来てくれるかと考え付いた。ニャー、ニャーと試みにやって見たが誰も来ない。そのうち池の上をさらさらと風が渡って日が暮れかかる。腹が非常に減って来た。泣きたくても声が出ない。仕方がない、何でもよいから食物《くいもの》のある所まであるこうと決心をしてそろりそろりと池を左《ひだ》りに廻り始めた。どうも非常に苦しい。そこを我慢して無理やりに這《は》って行くとようやくの事で何となく人間臭い所へ出た。ここへ這入《はい》ったら、どうにかなると思って竹垣の崩《くず》れた穴から、とある邸内にもぐり込んだ。縁は不思議なもので、もしこの竹垣が破れていなかったなら、吾輩はついに路傍《ろぼう》に餓死《がし》したかも知れんのである。一樹の蔭とはよく云《い》ったものだ。この垣根の穴は今日《こんにち》に至るまで吾輩が隣家《となり》の三毛を訪問する時の通路になっている。さて邸《やしき》へは忍び込んだもののこれから先どうして善《い》いか分らない。そのうちに暗くなる、腹は減る、寒さは寒し、雨が降って来るという始末でもう一刻の猶予《ゆうよ》が出来なくなった。仕方がないからとにかく明るくて暖かそうな方へ方へとあるいて行く。今から考えるとその時はすでに家の内に這入っておったのだ。ここで吾輩は彼《か》の書生以外の人間を再び見るべき機会に遭遇《そうぐう》したのである。第一に逢ったのがおさんである。これは前の書生より一層乱暴な方で吾輩を見るや否やいきなり頸筋《くびすじ》をつかんで表へ抛《ほう》り出した。いやこれは駄目だと思ったから眼をねぶって運を天に任せていた。しかしひもじいのと寒いのにはどうしても我慢が出来ん。吾輩は再びおさんの隙《すき》を見て台所へ這《は》い上《あが》った。すると間もなくまた投げ出された。吾輩は投げ出されては這い上り、這い上っては投げ出され、何でも同じ事を四五遍繰り返したのを記憶している。その時におさんと云う者はつくづくいやになった。この間おさんの三馬《さんま》を偸《ぬす》んでこの返報をしてやってから、やっと胸の痞《つかえ》が下りた。吾輩が最後につまみ出されようとしたときに、この家《うち》の主人が騒々しい何だといいながら出て来た。下女は吾輩をぶら下げて主人の方へ向けてこの宿《やど》なしの小猫がいくら出しても出しても御台所《おだいどころ》へ上《あが》って来て困りますという。主人は鼻の下の黒い毛を撚《ひね》りながら吾輩の顔をしばらく眺《なが》めておったが、やがてそんなら内へ置いてやれといったまま奥へ這入《はい》ってしまった。主人はあまり口を聞かぬ人と見えた。下女は口惜《くや》しそうに吾輩を台所へ抛《ほう》り出した。かくして吾輩はついにこの家《うち》を自分の住家《すみか》と極《き》める事にしたのである。\n"
          ],
          "name": "stdout"
        }
      ]
    },
    {
      "cell_type": "markdown",
      "metadata": {
        "id": "kUu1Jsbw71Uq",
        "colab_type": "text"
      },
      "source": [
        "# ルビを削除する"
      ]
    },
    {
      "cell_type": "code",
      "metadata": {
        "id": "XNyBO4cp76eE",
        "colab_type": "code",
        "colab": {}
      },
      "source": [
        "import re\n",
        "pattern1 = re.compile(r'《.*?》', re.MULTILINE)\n",
        "pattern2 = re.compile(r'｜', re.MULTILINE)\n",
        "pattern3 = re.compile(r'［＃.*?］', re.MULTILINE)\n",
        "with open('吾輩は猫である.txt', mode='rt', encoding='cp932') as rf:\n",
        "    with open('吾輩は猫である_ルビなし.txt', mode='wt', encoding='cp932') as wf:\n",
        "        for i, line in enumerate(rf):\n",
        "            line = pattern1.sub('',line)\n",
        "            line = pattern2.sub('',line)\n",
        "            line = pattern3.sub('',line)\n",
        "            wf.write(line)"
      ],
      "execution_count": 0,
      "outputs": []
    },
    {
      "cell_type": "code",
      "metadata": {
        "id": "VB38jFgf8Bdo",
        "colab_type": "code",
        "colab": {
          "base_uri": "https://localhost:8080/",
          "height": 122
        },
        "outputId": "cab31ec1-26f1-44b5-855b-405716615379"
      },
      "source": [
        "with open('吾輩は猫である_ルビなし.txt', mode='rt', encoding='cp932') as rf:\n",
        "    for i, line in enumerate(rf):\n",
        "        if i < 5: # この数字を変えることで表示する行数が変化\n",
        "            print(line.strip())"
      ],
      "execution_count": 26,
      "outputs": [
        {
          "output_type": "stream",
          "text": [
            "吾輩は猫である。名前はまだ無い。\n",
            "どこで生れたかとんと見当がつかぬ。何でも薄暗いじめじめした所でニャーニャー泣いていた事だけは記憶している。吾輩はここで始めて人間というものを見た。しかもあとで聞くとそれは書生という人間中で一番獰悪な種族であったそうだ。この書生というのは時々我々を捕えて煮て食うという話である。しかしその当時は何という考もなかったから別段恐しいとも思わなかった。ただ彼の掌に載せられてスーと持ち上げられた時何だかフワフワした感じがあったばかりである。掌の上で少し落ちついて書生の顔を見たのがいわゆる人間というものの見始であろう。この時妙なものだと思った感じが今でも残っている。第一毛をもって装飾されべきはずの顔がつるつるしてまるで薬缶だ。その後猫にもだいぶ逢ったがこんな片輪には一度も出会わした事がない。のみならず顔の真中があまりに突起している。そうしてその穴の中から時々ぷうぷうと煙を吹く。どうも咽せぽくて実に弱った。これが人間の飲む煙草というものである事はようやくこの頃知った。\n",
            "この書生の掌の裏でしばらくはよい心持に坐っておったが、しばらくすると非常な速力で運転し始めた。書生が動くのか自分だけが動くのか分らないが無暗に眼が廻る。胸が悪くなる。到底助からないと思っていると、どさりと音がして眼から火が出た。それまでは記憶しているがあとは何の事やらいくら考え出そうとしても分らない。\n",
            "ふと気が付いて見ると書生はいない。たくさんおった兄弟が一疋も見えぬ。肝心の母親さえ姿を隠してしまった。その上今までの所とは違って無暗に明るい。眼を明いていられぬくらいだ。はてな何でも容子がおかしいと、のそのそ這い出して見ると非常に痛い。吾輩は藁の上から急に笹原の中へ棄てられたのである。\n",
            "ようやくの思いで笹原を這い出すと向うに大きな池がある。吾輩は池の前に坐ってどうしたらよかろうと考えて見た。別にこれという分別も出ない。しばらくして泣いたら書生がまた迎に来てくれるかと考え付いた。ニャー、ニャーと試みにやって見たが誰も来ない。そのうち池の上をさらさらと風が渡って日が暮れかかる。腹が非常に減って来た。泣きたくても声が出ない。仕方がない、何でもよいから食物のある所まであるこうと決心をしてそろりそろりと池を左りに廻り始めた。どうも非常に苦しい。そこを我慢して無理やりに這って行くとようやくの事で何となく人間臭い所へ出た。ここへ這入ったら、どうにかなると思って竹垣の崩れた穴から、とある邸内にもぐり込んだ。縁は不思議なもので、もしこの竹垣が破れていなかったなら、吾輩はついに路傍に餓死したかも知れんのである。一樹の蔭とはよく云ったものだ。この垣根の穴は今日に至るまで吾輩が隣家の三毛を訪問する時の通路になっている。さて邸へは忍び込んだもののこれから先どうして善いか分らない。そのうちに暗くなる、腹は減る、寒さは寒し、雨が降って来るという始末でもう一刻の猶予が出来なくなった。仕方がないからとにかく明るくて暖かそうな方へ方へとあるいて行く。今から考えるとその時はすでに家の内に這入っておったのだ。ここで吾輩は彼の書生以外の人間を再び見るべき機会に遭遇したのである。第一に逢ったのがおさんである。これは前の書生より一層乱暴な方で吾輩を見るや否やいきなり頸筋をつかんで表へ抛り出した。いやこれは駄目だと思ったから眼をねぶって運を天に任せていた。しかしひもじいのと寒いのにはどうしても我慢が出来ん。吾輩は再びおさんの隙を見て台所へ這い上った。すると間もなくまた投げ出された。吾輩は投げ出されては這い上り、這い上っては投げ出され、何でも同じ事を四五遍繰り返したのを記憶している。その時におさんと云う者はつくづくいやになった。この間おさんの三馬を偸んでこの返報をしてやってから、やっと胸の痞が下りた。吾輩が最後につまみ出されようとしたときに、この家の主人が騒々しい何だといいながら出て来た。下女は吾輩をぶら下げて主人の方へ向けてこの宿なしの小猫がいくら出しても出しても御台所へ上って来て困りますという。主人は鼻の下の黒い毛を撚りながら吾輩の顔をしばらく眺めておったが、やがてそんなら内へ置いてやれといったまま奥へ這入ってしまった。主人はあまり口を聞かぬ人と見えた。下女は口惜しそうに吾輩を台所へ抛り出した。かくして吾輩はついにこの家を自分の住家と極める事にしたのである。\n"
          ],
          "name": "stdout"
        }
      ]
    },
    {
      "cell_type": "markdown",
      "metadata": {
        "id": "GTLo9Pjl8N5W",
        "colab_type": "text"
      },
      "source": [
        "# text_dataのdataframeを作成する"
      ]
    },
    {
      "cell_type": "code",
      "metadata": {
        "id": "Hil9mBdp8TJo",
        "colab_type": "code",
        "colab": {}
      },
      "source": [
        "import pandas as pd\n",
        "text_data = pd.read_table('吾輩は猫である_ルビなし.txt', encoding='cp932', header = None)\n",
        "text_data.columns = ['text']\n",
        "text_data['wakati'] = text_data['text'].apply(lambda x: ' '.join(mecab_tokenizer(x)))"
      ],
      "execution_count": 0,
      "outputs": []
    },
    {
      "cell_type": "code",
      "metadata": {
        "id": "uc4LJiSI8gp8",
        "colab_type": "code",
        "colab": {}
      },
      "source": [
        "text_data.wakati.to_csv('wakati.csv', sep='\\n', header=True, index=False)"
      ],
      "execution_count": 0,
      "outputs": []
    },
    {
      "cell_type": "markdown",
      "metadata": {
        "id": "RyW-5kDs8qZS",
        "colab_type": "text"
      },
      "source": [
        "# word2vecの実行"
      ]
    },
    {
      "cell_type": "code",
      "metadata": {
        "id": "Jc45OExk8sOY",
        "colab_type": "code",
        "colab": {
          "base_uri": "https://localhost:8080/",
          "height": 1000
        },
        "outputId": "068d472b-616e-4de2-fb61-68c346513b6b"
      },
      "source": [
        "from gensim.models import word2vec\n",
        "import logging\n",
        "logging.basicConfig(format='%(asctime)s : %(levelname)s : %(message)s', level=logging.INFO)\n",
        "sentence_data = word2vec.LineSentence('wakati.csv')\n",
        "model_w2v = word2vec.Word2Vec(sentence_data,\n",
        "                         sg=1,        # Skip-gram\n",
        "                         size=200,    # 次元数\n",
        "                         min_count=5, # min_count回未満の単語を破棄\n",
        "                         window=5,    # 文脈の最大単語数\n",
        "                         hs=1,        # 階層ソフトマックス(ネガティブサンプリングするなら0)\n",
        "                         negative=5,  # ネガティブサンプリング\n",
        "                         iter=50      # Epoch数\n",
        "                         )"
      ],
      "execution_count": 35,
      "outputs": [
        {
          "output_type": "stream",
          "text": [
            "2020-04-12 20:09:07,536 : INFO : collecting all words and their counts\n",
            "/usr/local/lib/python3.6/dist-packages/smart_open/smart_open_lib.py:410: UserWarning: This function is deprecated, use smart_open.open instead. See the migration notes for details: https://github.com/RaRe-Technologies/smart_open/blob/master/README.rst#migrating-to-the-new-open-function\n",
            "  'See the migration notes for details: %s' % _MIGRATION_NOTES_URL\n",
            "2020-04-12 20:09:07,542 : INFO : PROGRESS: at sentence #0, processed 0 words, keeping 0 word types\n",
            "2020-04-12 20:09:07,573 : INFO : collected 11121 word types from a corpus of 67019 raw words and 2256 sentences\n",
            "2020-04-12 20:09:07,574 : INFO : Loading a fresh vocabulary\n",
            "2020-04-12 20:09:07,587 : INFO : effective_min_count=5 retains 2476 unique words (22% of original 11121, drops 8645)\n",
            "2020-04-12 20:09:07,588 : INFO : effective_min_count=5 leaves 52859 word corpus (78% of original 67019, drops 14160)\n",
            "2020-04-12 20:09:07,602 : INFO : deleting the raw counts dictionary of 11121 items\n",
            "2020-04-12 20:09:07,603 : INFO : sample=0.001 downsamples 36 most-common words\n",
            "2020-04-12 20:09:07,604 : INFO : downsampling leaves estimated 43532 word corpus (82.4% of prior 52859)\n",
            "2020-04-12 20:09:07,608 : INFO : constructing a huffman tree from 2476 words\n",
            "2020-04-12 20:09:07,664 : INFO : built huffman tree with maximum node depth 14\n",
            "2020-04-12 20:09:07,669 : INFO : estimated required memory for 2476 words and 200 dimensions: 7675600 bytes\n",
            "2020-04-12 20:09:07,670 : INFO : resetting layer weights\n",
            "2020-04-12 20:09:08,215 : INFO : training model with 3 workers on 2476 vocabulary and 200 features, using sg=1 hs=1 sample=0.001 negative=5 window=5\n",
            "2020-04-12 20:09:08,751 : INFO : worker thread finished; awaiting finish of 2 more threads\n",
            "2020-04-12 20:09:08,761 : INFO : worker thread finished; awaiting finish of 1 more threads\n",
            "2020-04-12 20:09:08,806 : INFO : worker thread finished; awaiting finish of 0 more threads\n",
            "2020-04-12 20:09:08,806 : INFO : EPOCH - 1 : training on 67019 raw words (43454 effective words) took 0.6s, 73748 effective words/s\n",
            "2020-04-12 20:09:09,287 : INFO : worker thread finished; awaiting finish of 2 more threads\n",
            "2020-04-12 20:09:09,376 : INFO : worker thread finished; awaiting finish of 1 more threads\n",
            "2020-04-12 20:09:09,397 : INFO : worker thread finished; awaiting finish of 0 more threads\n",
            "2020-04-12 20:09:09,397 : INFO : EPOCH - 2 : training on 67019 raw words (43552 effective words) took 0.6s, 74713 effective words/s\n",
            "2020-04-12 20:09:09,955 : INFO : worker thread finished; awaiting finish of 2 more threads\n",
            "2020-04-12 20:09:09,972 : INFO : worker thread finished; awaiting finish of 1 more threads\n",
            "2020-04-12 20:09:09,983 : INFO : worker thread finished; awaiting finish of 0 more threads\n",
            "2020-04-12 20:09:09,984 : INFO : EPOCH - 3 : training on 67019 raw words (43531 effective words) took 0.6s, 75049 effective words/s\n",
            "2020-04-12 20:09:10,477 : INFO : worker thread finished; awaiting finish of 2 more threads\n",
            "2020-04-12 20:09:10,533 : INFO : worker thread finished; awaiting finish of 1 more threads\n",
            "2020-04-12 20:09:10,563 : INFO : worker thread finished; awaiting finish of 0 more threads\n",
            "2020-04-12 20:09:10,564 : INFO : EPOCH - 4 : training on 67019 raw words (43583 effective words) took 0.6s, 75937 effective words/s\n",
            "2020-04-12 20:09:11,046 : INFO : worker thread finished; awaiting finish of 2 more threads\n",
            "2020-04-12 20:09:11,143 : INFO : worker thread finished; awaiting finish of 1 more threads\n",
            "2020-04-12 20:09:11,147 : INFO : worker thread finished; awaiting finish of 0 more threads\n",
            "2020-04-12 20:09:11,148 : INFO : EPOCH - 5 : training on 67019 raw words (43606 effective words) took 0.6s, 75485 effective words/s\n",
            "2020-04-12 20:09:11,635 : INFO : worker thread finished; awaiting finish of 2 more threads\n",
            "2020-04-12 20:09:11,667 : INFO : worker thread finished; awaiting finish of 1 more threads\n",
            "2020-04-12 20:09:11,735 : INFO : worker thread finished; awaiting finish of 0 more threads\n",
            "2020-04-12 20:09:11,737 : INFO : EPOCH - 6 : training on 67019 raw words (43472 effective words) took 0.6s, 74505 effective words/s\n",
            "2020-04-12 20:09:12,277 : INFO : worker thread finished; awaiting finish of 2 more threads\n",
            "2020-04-12 20:09:12,301 : INFO : worker thread finished; awaiting finish of 1 more threads\n",
            "2020-04-12 20:09:12,317 : INFO : worker thread finished; awaiting finish of 0 more threads\n",
            "2020-04-12 20:09:12,317 : INFO : EPOCH - 7 : training on 67019 raw words (43555 effective words) took 0.6s, 75675 effective words/s\n",
            "2020-04-12 20:09:12,809 : INFO : worker thread finished; awaiting finish of 2 more threads\n",
            "2020-04-12 20:09:12,851 : INFO : worker thread finished; awaiting finish of 1 more threads\n",
            "2020-04-12 20:09:12,904 : INFO : worker thread finished; awaiting finish of 0 more threads\n",
            "2020-04-12 20:09:12,905 : INFO : EPOCH - 8 : training on 67019 raw words (43540 effective words) took 0.6s, 74826 effective words/s\n",
            "2020-04-12 20:09:13,437 : INFO : worker thread finished; awaiting finish of 2 more threads\n",
            "2020-04-12 20:09:13,442 : INFO : worker thread finished; awaiting finish of 1 more threads\n",
            "2020-04-12 20:09:13,498 : INFO : worker thread finished; awaiting finish of 0 more threads\n",
            "2020-04-12 20:09:13,499 : INFO : EPOCH - 9 : training on 67019 raw words (43527 effective words) took 0.6s, 74032 effective words/s\n",
            "2020-04-12 20:09:13,983 : INFO : worker thread finished; awaiting finish of 2 more threads\n",
            "2020-04-12 20:09:14,050 : INFO : worker thread finished; awaiting finish of 1 more threads\n",
            "2020-04-12 20:09:14,085 : INFO : worker thread finished; awaiting finish of 0 more threads\n",
            "2020-04-12 20:09:14,086 : INFO : EPOCH - 10 : training on 67019 raw words (43533 effective words) took 0.6s, 75043 effective words/s\n",
            "2020-04-12 20:09:14,647 : INFO : worker thread finished; awaiting finish of 2 more threads\n",
            "2020-04-12 20:09:14,678 : INFO : worker thread finished; awaiting finish of 1 more threads\n",
            "2020-04-12 20:09:14,690 : INFO : worker thread finished; awaiting finish of 0 more threads\n",
            "2020-04-12 20:09:14,691 : INFO : EPOCH - 11 : training on 67019 raw words (43430 effective words) took 0.6s, 73816 effective words/s\n",
            "2020-04-12 20:09:15,248 : INFO : worker thread finished; awaiting finish of 2 more threads\n",
            "2020-04-12 20:09:15,265 : INFO : worker thread finished; awaiting finish of 1 more threads\n",
            "2020-04-12 20:09:15,268 : INFO : worker thread finished; awaiting finish of 0 more threads\n",
            "2020-04-12 20:09:15,269 : INFO : EPOCH - 12 : training on 67019 raw words (43445 effective words) took 0.6s, 75853 effective words/s\n",
            "2020-04-12 20:09:15,830 : INFO : worker thread finished; awaiting finish of 2 more threads\n",
            "2020-04-12 20:09:15,833 : INFO : worker thread finished; awaiting finish of 1 more threads\n",
            "2020-04-12 20:09:15,836 : INFO : worker thread finished; awaiting finish of 0 more threads\n",
            "2020-04-12 20:09:15,838 : INFO : EPOCH - 13 : training on 67019 raw words (43556 effective words) took 0.6s, 77497 effective words/s\n",
            "2020-04-12 20:09:16,370 : INFO : worker thread finished; awaiting finish of 2 more threads\n",
            "2020-04-12 20:09:16,412 : INFO : worker thread finished; awaiting finish of 1 more threads\n",
            "2020-04-12 20:09:16,427 : INFO : worker thread finished; awaiting finish of 0 more threads\n",
            "2020-04-12 20:09:16,428 : INFO : EPOCH - 14 : training on 67019 raw words (43671 effective words) took 0.6s, 75453 effective words/s\n",
            "2020-04-12 20:09:16,916 : INFO : worker thread finished; awaiting finish of 2 more threads\n",
            "2020-04-12 20:09:16,980 : INFO : worker thread finished; awaiting finish of 1 more threads\n",
            "2020-04-12 20:09:17,014 : INFO : worker thread finished; awaiting finish of 0 more threads\n",
            "2020-04-12 20:09:17,015 : INFO : EPOCH - 15 : training on 67019 raw words (43484 effective words) took 0.6s, 74939 effective words/s\n",
            "2020-04-12 20:09:17,533 : INFO : worker thread finished; awaiting finish of 2 more threads\n",
            "2020-04-12 20:09:17,562 : INFO : worker thread finished; awaiting finish of 1 more threads\n",
            "2020-04-12 20:09:17,594 : INFO : worker thread finished; awaiting finish of 0 more threads\n",
            "2020-04-12 20:09:17,595 : INFO : EPOCH - 16 : training on 67019 raw words (43593 effective words) took 0.6s, 75889 effective words/s\n",
            "2020-04-12 20:09:18,151 : INFO : worker thread finished; awaiting finish of 2 more threads\n",
            "2020-04-12 20:09:18,175 : INFO : worker thread finished; awaiting finish of 1 more threads\n",
            "2020-04-12 20:09:18,181 : INFO : worker thread finished; awaiting finish of 0 more threads\n",
            "2020-04-12 20:09:18,182 : INFO : EPOCH - 17 : training on 67019 raw words (43527 effective words) took 0.6s, 75093 effective words/s\n",
            "2020-04-12 20:09:18,714 : INFO : worker thread finished; awaiting finish of 2 more threads\n",
            "2020-04-12 20:09:18,745 : INFO : worker thread finished; awaiting finish of 1 more threads\n",
            "2020-04-12 20:09:18,757 : INFO : worker thread finished; awaiting finish of 0 more threads\n",
            "2020-04-12 20:09:18,758 : INFO : EPOCH - 18 : training on 67019 raw words (43604 effective words) took 0.6s, 76111 effective words/s\n",
            "2020-04-12 20:09:19,248 : INFO : worker thread finished; awaiting finish of 2 more threads\n",
            "2020-04-12 20:09:19,329 : INFO : worker thread finished; awaiting finish of 1 more threads\n",
            "2020-04-12 20:09:19,335 : INFO : worker thread finished; awaiting finish of 0 more threads\n",
            "2020-04-12 20:09:19,335 : INFO : EPOCH - 19 : training on 67019 raw words (43582 effective words) took 0.6s, 76622 effective words/s\n",
            "2020-04-12 20:09:19,846 : INFO : worker thread finished; awaiting finish of 2 more threads\n",
            "2020-04-12 20:09:19,853 : INFO : worker thread finished; awaiting finish of 1 more threads\n",
            "2020-04-12 20:09:19,922 : INFO : worker thread finished; awaiting finish of 0 more threads\n",
            "2020-04-12 20:09:19,923 : INFO : EPOCH - 20 : training on 67019 raw words (43536 effective words) took 0.6s, 74891 effective words/s\n",
            "2020-04-12 20:09:20,435 : INFO : worker thread finished; awaiting finish of 2 more threads\n",
            "2020-04-12 20:09:20,465 : INFO : worker thread finished; awaiting finish of 1 more threads\n",
            "2020-04-12 20:09:20,515 : INFO : worker thread finished; awaiting finish of 0 more threads\n",
            "2020-04-12 20:09:20,516 : INFO : EPOCH - 21 : training on 67019 raw words (43525 effective words) took 0.6s, 74132 effective words/s\n",
            "2020-04-12 20:09:21,025 : INFO : worker thread finished; awaiting finish of 2 more threads\n",
            "2020-04-12 20:09:21,065 : INFO : worker thread finished; awaiting finish of 1 more threads\n",
            "2020-04-12 20:09:21,106 : INFO : worker thread finished; awaiting finish of 0 more threads\n",
            "2020-04-12 20:09:21,107 : INFO : EPOCH - 22 : training on 67019 raw words (43482 effective words) took 0.6s, 74248 effective words/s\n",
            "2020-04-12 20:09:21,641 : INFO : worker thread finished; awaiting finish of 2 more threads\n",
            "2020-04-12 20:09:21,660 : INFO : worker thread finished; awaiting finish of 1 more threads\n",
            "2020-04-12 20:09:21,690 : INFO : worker thread finished; awaiting finish of 0 more threads\n",
            "2020-04-12 20:09:21,691 : INFO : EPOCH - 23 : training on 67019 raw words (43645 effective words) took 0.6s, 75641 effective words/s\n",
            "2020-04-12 20:09:22,241 : INFO : worker thread finished; awaiting finish of 2 more threads\n",
            "2020-04-12 20:09:22,260 : INFO : worker thread finished; awaiting finish of 1 more threads\n",
            "2020-04-12 20:09:22,262 : INFO : worker thread finished; awaiting finish of 0 more threads\n",
            "2020-04-12 20:09:22,264 : INFO : EPOCH - 24 : training on 67019 raw words (43533 effective words) took 0.6s, 76440 effective words/s\n",
            "2020-04-12 20:09:22,727 : INFO : worker thread finished; awaiting finish of 2 more threads\n",
            "2020-04-12 20:09:22,815 : INFO : worker thread finished; awaiting finish of 1 more threads\n",
            "2020-04-12 20:09:22,837 : INFO : worker thread finished; awaiting finish of 0 more threads\n",
            "2020-04-12 20:09:22,838 : INFO : EPOCH - 25 : training on 67019 raw words (43481 effective words) took 0.6s, 76575 effective words/s\n",
            "2020-04-12 20:09:23,382 : INFO : worker thread finished; awaiting finish of 2 more threads\n",
            "2020-04-12 20:09:23,407 : INFO : worker thread finished; awaiting finish of 1 more threads\n",
            "2020-04-12 20:09:23,421 : INFO : worker thread finished; awaiting finish of 0 more threads\n",
            "2020-04-12 20:09:23,422 : INFO : EPOCH - 26 : training on 67019 raw words (43499 effective words) took 0.6s, 75286 effective words/s\n",
            "2020-04-12 20:09:23,909 : INFO : worker thread finished; awaiting finish of 2 more threads\n",
            "2020-04-12 20:09:23,991 : INFO : worker thread finished; awaiting finish of 1 more threads\n",
            "2020-04-12 20:09:23,993 : INFO : worker thread finished; awaiting finish of 0 more threads\n",
            "2020-04-12 20:09:23,995 : INFO : EPOCH - 27 : training on 67019 raw words (43467 effective words) took 0.6s, 76665 effective words/s\n",
            "2020-04-12 20:09:24,499 : INFO : worker thread finished; awaiting finish of 2 more threads\n",
            "2020-04-12 20:09:24,515 : INFO : worker thread finished; awaiting finish of 1 more threads\n",
            "2020-04-12 20:09:24,582 : INFO : worker thread finished; awaiting finish of 0 more threads\n",
            "2020-04-12 20:09:24,583 : INFO : EPOCH - 28 : training on 67019 raw words (43596 effective words) took 0.6s, 75000 effective words/s\n",
            "2020-04-12 20:09:25,139 : INFO : worker thread finished; awaiting finish of 2 more threads\n",
            "2020-04-12 20:09:25,159 : INFO : worker thread finished; awaiting finish of 1 more threads\n",
            "2020-04-12 20:09:25,206 : INFO : worker thread finished; awaiting finish of 0 more threads\n",
            "2020-04-12 20:09:25,207 : INFO : EPOCH - 29 : training on 67019 raw words (43554 effective words) took 0.6s, 70516 effective words/s\n",
            "2020-04-12 20:09:25,722 : INFO : worker thread finished; awaiting finish of 2 more threads\n",
            "2020-04-12 20:09:25,746 : INFO : worker thread finished; awaiting finish of 1 more threads\n",
            "2020-04-12 20:09:25,773 : INFO : worker thread finished; awaiting finish of 0 more threads\n",
            "2020-04-12 20:09:25,774 : INFO : EPOCH - 30 : training on 67019 raw words (43430 effective words) took 0.6s, 77438 effective words/s\n",
            "2020-04-12 20:09:26,278 : INFO : worker thread finished; awaiting finish of 2 more threads\n",
            "2020-04-12 20:09:26,335 : INFO : worker thread finished; awaiting finish of 1 more threads\n",
            "2020-04-12 20:09:26,359 : INFO : worker thread finished; awaiting finish of 0 more threads\n",
            "2020-04-12 20:09:26,360 : INFO : EPOCH - 31 : training on 67019 raw words (43472 effective words) took 0.6s, 74993 effective words/s\n",
            "2020-04-12 20:09:26,847 : INFO : worker thread finished; awaiting finish of 2 more threads\n",
            "2020-04-12 20:09:26,921 : INFO : worker thread finished; awaiting finish of 1 more threads\n",
            "2020-04-12 20:09:26,941 : INFO : worker thread finished; awaiting finish of 0 more threads\n",
            "2020-04-12 20:09:26,942 : INFO : EPOCH - 32 : training on 67019 raw words (43552 effective words) took 0.6s, 76683 effective words/s\n",
            "2020-04-12 20:09:27,472 : INFO : worker thread finished; awaiting finish of 2 more threads\n",
            "2020-04-12 20:09:27,502 : INFO : worker thread finished; awaiting finish of 1 more threads\n",
            "2020-04-12 20:09:27,515 : INFO : worker thread finished; awaiting finish of 0 more threads\n",
            "2020-04-12 20:09:27,516 : INFO : EPOCH - 33 : training on 67019 raw words (43500 effective words) took 0.6s, 77760 effective words/s\n",
            "2020-04-12 20:09:28,033 : INFO : worker thread finished; awaiting finish of 2 more threads\n",
            "2020-04-12 20:09:28,060 : INFO : worker thread finished; awaiting finish of 1 more threads\n",
            "2020-04-12 20:09:28,098 : INFO : worker thread finished; awaiting finish of 0 more threads\n",
            "2020-04-12 20:09:28,099 : INFO : EPOCH - 34 : training on 67019 raw words (43511 effective words) took 0.6s, 75414 effective words/s\n",
            "2020-04-12 20:09:28,643 : INFO : worker thread finished; awaiting finish of 2 more threads\n",
            "2020-04-12 20:09:28,656 : INFO : worker thread finished; awaiting finish of 1 more threads\n",
            "2020-04-12 20:09:28,686 : INFO : worker thread finished; awaiting finish of 0 more threads\n",
            "2020-04-12 20:09:28,688 : INFO : EPOCH - 35 : training on 67019 raw words (43471 effective words) took 0.6s, 74703 effective words/s\n",
            "2020-04-12 20:09:29,201 : INFO : worker thread finished; awaiting finish of 2 more threads\n",
            "2020-04-12 20:09:29,221 : INFO : worker thread finished; awaiting finish of 1 more threads\n",
            "2020-04-12 20:09:29,289 : INFO : worker thread finished; awaiting finish of 0 more threads\n",
            "2020-04-12 20:09:29,290 : INFO : EPOCH - 36 : training on 67019 raw words (43495 effective words) took 0.6s, 73066 effective words/s\n",
            "2020-04-12 20:09:29,824 : INFO : worker thread finished; awaiting finish of 2 more threads\n",
            "2020-04-12 20:09:29,833 : INFO : worker thread finished; awaiting finish of 1 more threads\n",
            "2020-04-12 20:09:29,869 : INFO : worker thread finished; awaiting finish of 0 more threads\n",
            "2020-04-12 20:09:29,870 : INFO : EPOCH - 37 : training on 67019 raw words (43500 effective words) took 0.6s, 77002 effective words/s\n",
            "2020-04-12 20:09:30,370 : INFO : worker thread finished; awaiting finish of 2 more threads\n",
            "2020-04-12 20:09:30,435 : INFO : worker thread finished; awaiting finish of 1 more threads\n",
            "2020-04-12 20:09:30,466 : INFO : worker thread finished; awaiting finish of 0 more threads\n",
            "2020-04-12 20:09:30,467 : INFO : EPOCH - 38 : training on 67019 raw words (43492 effective words) took 0.6s, 73948 effective words/s\n",
            "2020-04-12 20:09:30,970 : INFO : worker thread finished; awaiting finish of 2 more threads\n",
            "2020-04-12 20:09:30,995 : INFO : worker thread finished; awaiting finish of 1 more threads\n",
            "2020-04-12 20:09:31,043 : INFO : worker thread finished; awaiting finish of 0 more threads\n",
            "2020-04-12 20:09:31,044 : INFO : EPOCH - 39 : training on 67019 raw words (43552 effective words) took 0.6s, 76264 effective words/s\n",
            "2020-04-12 20:09:31,596 : INFO : worker thread finished; awaiting finish of 2 more threads\n",
            "2020-04-12 20:09:31,597 : INFO : worker thread finished; awaiting finish of 1 more threads\n",
            "2020-04-12 20:09:31,620 : INFO : worker thread finished; awaiting finish of 0 more threads\n",
            "2020-04-12 20:09:31,621 : INFO : EPOCH - 40 : training on 67019 raw words (43561 effective words) took 0.6s, 76265 effective words/s\n",
            "2020-04-12 20:09:32,123 : INFO : worker thread finished; awaiting finish of 2 more threads\n",
            "2020-04-12 20:09:32,169 : INFO : worker thread finished; awaiting finish of 1 more threads\n",
            "2020-04-12 20:09:32,190 : INFO : worker thread finished; awaiting finish of 0 more threads\n",
            "2020-04-12 20:09:32,191 : INFO : EPOCH - 41 : training on 67019 raw words (43486 effective words) took 0.6s, 78739 effective words/s\n",
            "2020-04-12 20:09:32,744 : INFO : worker thread finished; awaiting finish of 2 more threads\n",
            "2020-04-12 20:09:32,746 : INFO : worker thread finished; awaiting finish of 1 more threads\n",
            "2020-04-12 20:09:32,790 : INFO : worker thread finished; awaiting finish of 0 more threads\n",
            "2020-04-12 20:09:32,791 : INFO : EPOCH - 42 : training on 67019 raw words (43558 effective words) took 0.6s, 73469 effective words/s\n",
            "2020-04-12 20:09:33,326 : INFO : worker thread finished; awaiting finish of 2 more threads\n",
            "2020-04-12 20:09:33,332 : INFO : worker thread finished; awaiting finish of 1 more threads\n",
            "2020-04-12 20:09:33,367 : INFO : worker thread finished; awaiting finish of 0 more threads\n",
            "2020-04-12 20:09:33,368 : INFO : EPOCH - 43 : training on 67019 raw words (43638 effective words) took 0.6s, 76401 effective words/s\n",
            "2020-04-12 20:09:33,878 : INFO : worker thread finished; awaiting finish of 2 more threads\n",
            "2020-04-12 20:09:33,884 : INFO : worker thread finished; awaiting finish of 1 more threads\n",
            "2020-04-12 20:09:33,945 : INFO : worker thread finished; awaiting finish of 0 more threads\n",
            "2020-04-12 20:09:33,946 : INFO : EPOCH - 44 : training on 67019 raw words (43562 effective words) took 0.6s, 76096 effective words/s\n",
            "2020-04-12 20:09:34,433 : INFO : worker thread finished; awaiting finish of 2 more threads\n",
            "2020-04-12 20:09:34,476 : INFO : worker thread finished; awaiting finish of 1 more threads\n",
            "2020-04-12 20:09:34,534 : INFO : worker thread finished; awaiting finish of 0 more threads\n",
            "2020-04-12 20:09:34,535 : INFO : EPOCH - 45 : training on 67019 raw words (43548 effective words) took 0.6s, 74713 effective words/s\n",
            "2020-04-12 20:09:35,010 : INFO : worker thread finished; awaiting finish of 2 more threads\n",
            "2020-04-12 20:09:35,078 : INFO : worker thread finished; awaiting finish of 1 more threads\n",
            "2020-04-12 20:09:35,096 : INFO : worker thread finished; awaiting finish of 0 more threads\n",
            "2020-04-12 20:09:35,097 : INFO : EPOCH - 46 : training on 67019 raw words (43531 effective words) took 0.6s, 78252 effective words/s\n",
            "2020-04-12 20:09:35,599 : INFO : worker thread finished; awaiting finish of 2 more threads\n",
            "2020-04-12 20:09:35,686 : INFO : worker thread finished; awaiting finish of 1 more threads\n",
            "2020-04-12 20:09:35,693 : INFO : worker thread finished; awaiting finish of 0 more threads\n",
            "2020-04-12 20:09:35,694 : INFO : EPOCH - 47 : training on 67019 raw words (43520 effective words) took 0.6s, 73399 effective words/s\n",
            "2020-04-12 20:09:36,188 : INFO : worker thread finished; awaiting finish of 2 more threads\n",
            "2020-04-12 20:09:36,216 : INFO : worker thread finished; awaiting finish of 1 more threads\n",
            "2020-04-12 20:09:36,275 : INFO : worker thread finished; awaiting finish of 0 more threads\n",
            "2020-04-12 20:09:36,276 : INFO : EPOCH - 48 : training on 67019 raw words (43521 effective words) took 0.6s, 75539 effective words/s\n",
            "2020-04-12 20:09:36,796 : INFO : worker thread finished; awaiting finish of 2 more threads\n",
            "2020-04-12 20:09:36,838 : INFO : worker thread finished; awaiting finish of 1 more threads\n",
            "2020-04-12 20:09:36,882 : INFO : worker thread finished; awaiting finish of 0 more threads\n",
            "2020-04-12 20:09:36,883 : INFO : EPOCH - 49 : training on 67019 raw words (43470 effective words) took 0.6s, 72328 effective words/s\n",
            "2020-04-12 20:09:37,399 : INFO : worker thread finished; awaiting finish of 2 more threads\n",
            "2020-04-12 20:09:37,438 : INFO : worker thread finished; awaiting finish of 1 more threads\n",
            "2020-04-12 20:09:37,454 : INFO : worker thread finished; awaiting finish of 0 more threads\n",
            "2020-04-12 20:09:37,455 : INFO : EPOCH - 50 : training on 67019 raw words (43450 effective words) took 0.6s, 77995 effective words/s\n",
            "2020-04-12 20:09:37,455 : INFO : training on a 3350950 raw words (2176383 effective words) took 29.2s, 74432 effective words/s\n"
          ],
          "name": "stderr"
        }
      ]
    },
    {
      "cell_type": "markdown",
      "metadata": {
        "id": "IxeoPCHo_pa6",
        "colab_type": "text"
      },
      "source": [
        "# 類似度の測定"
      ]
    },
    {
      "cell_type": "code",
      "metadata": {
        "id": "72rALGhpBFu6",
        "colab_type": "code",
        "colab": {
          "base_uri": "https://localhost:8080/",
          "height": 462
        },
        "outputId": "6540543a-d737-4a8e-9410-f619d855d78b"
      },
      "source": [
        "s = input('類似度の計測をしたい単語を入力：')\n",
        "try:\n",
        "    results = model_w2v.most_similar(positive=[s], topn=20)\n",
        "    for i, result in enumerate(results):\n",
        "        print(i+1, '\\t', '{0:.5f}'.format(result[1]), ' ', result[0])\n",
        "except KeyError:\n",
        "    print('{}が辞書の中に入っていない'.format(s))"
      ],
      "execution_count": 39,
      "outputs": [
        {
          "output_type": "stream",
          "text": [
            "類似度の計測をしたい単語を入力：猫\n",
            "1 \t 0.32929   寒さ\n",
            "2 \t 0.32794   思う\n",
            "3 \t 0.32713   属\n",
            "4 \t 0.32096   鳴き声\n",
            "5 \t 0.31884   一疋\n",
            "6 \t 0.31736   進化\n",
            "7 \t 0.31387   三毛\n",
            "8 \t 0.29706   銭\n",
            "9 \t 0.29530   同族\n",
            "10 \t 0.29425   南無阿弥陀仏\n",
            "11 \t 0.28963   適当\n",
            "12 \t 0.28377   国家\n",
            "13 \t 0.27984   主人\n",
            "14 \t 0.27608   単純\n",
            "15 \t 0.27566   生涯\n",
            "16 \t 0.27379   金魚\n",
            "17 \t 0.27249   軽蔑\n",
            "18 \t 0.27029   大王\n",
            "19 \t 0.26972   上等\n",
            "20 \t 0.26800   見る\n"
          ],
          "name": "stdout"
        },
        {
          "output_type": "stream",
          "text": [
            "/usr/local/lib/python3.6/dist-packages/ipykernel_launcher.py:3: DeprecationWarning: Call to deprecated `most_similar` (Method will be removed in 4.0.0, use self.wv.most_similar() instead).\n",
            "  This is separate from the ipykernel package so we can avoid doing imports until\n",
            "/usr/local/lib/python3.6/dist-packages/gensim/matutils.py:737: FutureWarning: Conversion of the second argument of issubdtype from `int` to `np.signedinteger` is deprecated. In future, it will be treated as `np.int64 == np.dtype(int).type`.\n",
            "  if np.issubdtype(vec.dtype, np.int):\n"
          ],
          "name": "stderr"
        }
      ]
    }
  ]
}