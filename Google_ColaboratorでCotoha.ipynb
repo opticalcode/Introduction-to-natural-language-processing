{
  "nbformat": 4,
  "nbformat_minor": 0,
  "metadata": {
    "colab": {
      "name": "Google ColaboratorでCotoha",
      "provenance": [],
      "authorship_tag": "ABX9TyP2CRjBzT4hC4BUSvRG0Edg",
      "include_colab_link": true
    },
    "kernelspec": {
      "name": "python3",
      "display_name": "Python 3"
    }
  },
  "cells": [
    {
      "cell_type": "markdown",
      "metadata": {
        "id": "view-in-github",
        "colab_type": "text"
      },
      "source": [
        "<a href=\"https://colab.research.google.com/github/opticalcode/Introduction-to-natural-language-processing/blob/master/Google_Colaborator%E3%81%A7Cotoha.ipynb\" target=\"_parent\"><img src=\"https://colab.research.google.com/assets/colab-badge.svg\" alt=\"Open In Colab\"/></a>"
      ]
    },
    {
      "cell_type": "markdown",
      "metadata": {
        "id": "ZVGqAGu7GMEz",
        "colab_type": "text"
      },
      "source": [
        "# cotohaのインストール"
      ]
    },
    {
      "cell_type": "code",
      "metadata": {
        "id": "Zlgnp8mZGbTV",
        "colab_type": "code",
        "colab": {}
      },
      "source": [
        "pip install cotoha_at_python"
      ],
      "execution_count": 0,
      "outputs": []
    },
    {
      "cell_type": "code",
      "metadata": {
        "id": "5zZF5OnEGs2b",
        "colab_type": "code",
        "colab": {}
      },
      "source": [
        "from cotohacall.main  import cotoha_call\n",
        "import os\n",
        "\n",
        "os.environ['CLIENT_ID'] = '自分のIDをここに入れる'\n",
        "os.environ['CLIENT_SECRET'] = '自分のSECRETをここに入れる'\n",
        "\n",
        "sentence = '吾輩は猫である。名前はまだ無い。どこで生れたかとんと見当がつかぬ。何でも薄暗いじめじめした所でニャーニャー泣いていた事だけは記憶している。'\n",
        "cotoha_call('keyword', sentence)"
      ],
      "execution_count": 0,
      "outputs": []
    }
  ]
}