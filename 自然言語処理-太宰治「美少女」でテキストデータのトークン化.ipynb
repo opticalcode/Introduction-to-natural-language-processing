{
 "cells": [
  {
   "cell_type": "code",
   "execution_count": 5,
   "metadata": {},
   "outputs": [],
   "source": [
    "from nltk.tokenize import sent_tokenize, word_tokenize, WordPunctTokenizer"
   ]
  },
  {
   "cell_type": "code",
   "execution_count": 6,
   "metadata": {},
   "outputs": [
    {
     "name": "stdout",
     "output_type": "stream",
     "text": [
      "sentence tokenizer:\n",
      "['Do you know how tokenization works?', \"It's actually quite interesting!\", \"Let's analyze a couple of sentences and figure it out.\"]\n"
     ]
    }
   ],
   "source": [
    "input_text =\"Do you know how tokenization works? \\\n",
    "             It's actually quite interesting! \\\n",
    "             Let's analyze a couple of sentences and figure it out.\"\n",
    "print(\"sentence tokenizer:\")\n",
    "print(sent_tokenize(input_text))"
   ]
  },
  {
   "cell_type": "code",
   "execution_count": 7,
   "metadata": {},
   "outputs": [
    {
     "name": "stdout",
     "output_type": "stream",
     "text": [
      "Word tokenizer:\n",
      "['Do', 'you', 'know', 'how', 'tokenization', 'works', '?', 'It', \"'s\", 'actually', 'quite', 'interesting', '!', 'Let', \"'s\", 'analyze', 'a', 'couple', 'of', 'sentences', 'and', 'figure', 'it', 'out', '.']\n"
     ]
    }
   ],
   "source": [
    "print(\"Word tokenizer:\")\n",
    "print(word_tokenize(input_text))"
   ]
  },
  {
   "cell_type": "code",
   "execution_count": 8,
   "metadata": {},
   "outputs": [
    {
     "name": "stdout",
     "output_type": "stream",
     "text": [
      "Word punct tokenizer:\n",
      "['Do', 'you', 'know', 'how', 'tokenization', 'works', '?', 'It', \"'\", 's', 'actually', 'quite', 'interesting', '!', 'Let', \"'\", 's', 'analyze', 'a', 'couple', 'of', 'sentences', 'and', 'figure', 'it', 'out', '.']\n"
     ]
    }
   ],
   "source": [
    "print(\"Word punct tokenizer:\")\n",
    "print(WordPunctTokenizer().tokenize(input_text))"
   ]
  },
  {
   "cell_type": "code",
   "execution_count": 9,
   "metadata": {},
   "outputs": [
    {
     "name": "stdout",
     "output_type": "stream",
     "text": [
      "Sentence tokenizer:\n",
      "['ことしの正月から山梨県、              甲府市のまちはずれに小さい家を借り、              少しずつ貧しい仕事をすすめてもう、はや半年すぎてしまった。']\n"
     ]
    }
   ],
   "source": [
    "input_text = \"ことしの正月から山梨県、\\\n",
    "              甲府市のまちはずれに小さい家を借り、\\\n",
    "              少しずつ貧しい仕事をすすめてもう、はや半年すぎてしまった。\"\n",
    "print(\"Sentence tokenizer:\")\n",
    "print(sent_tokenize(input_text))"
   ]
  },
  {
   "cell_type": "code",
   "execution_count": 10,
   "metadata": {},
   "outputs": [
    {
     "name": "stdout",
     "output_type": "stream",
     "text": [
      "Word tokennizer:\n",
      "['ことしの正月から山梨県、', '甲府市のまちはずれに小さい家を借り、', '少しずつ貧しい仕事をすすめてもう、はや半年すぎてしまった。']\n"
     ]
    }
   ],
   "source": [
    "print(\"Word tokennizer:\")\n",
    "print(word_tokenize(input_text))"
   ]
  },
  {
   "cell_type": "code",
   "execution_count": 11,
   "metadata": {},
   "outputs": [
    {
     "name": "stdout",
     "output_type": "stream",
     "text": [
      "Word punct tokenizer:\n",
      "['ことしの正月から山梨県', '、', '甲府市のまちはずれに小さい家を借り', '、', '少しずつ貧しい仕事をすすめてもう', '、', 'はや半年すぎてしまった', '。']\n"
     ]
    }
   ],
   "source": [
    "print(\"Word punct tokenizer:\")\n",
    "print(WordPunctTokenizer().tokenize(input_text))"
   ]
  }
 ],
 "metadata": {
  "kernelspec": {
   "display_name": "Python 3",
   "language": "python",
   "name": "python3"
  },
  "language_info": {
   "codemirror_mode": {
    "name": "ipython",
    "version": 3
   },
   "file_extension": ".py",
   "mimetype": "text/x-python",
   "name": "python",
   "nbconvert_exporter": "python",
   "pygments_lexer": "ipython3",
   "version": "3.7.6"
  }
 },
 "nbformat": 4,
 "nbformat_minor": 4
}
