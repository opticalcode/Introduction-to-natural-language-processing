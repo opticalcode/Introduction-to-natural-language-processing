{
  "nbformat": 4,
  "nbformat_minor": 0,
  "metadata": {
    "colab": {
      "name": "自然言語処理-太宰治「美少女」でテキストデータの分かち",
      "provenance": [],
      "private_outputs": true
    },
    "kernelspec": {
      "name": "python3",
      "display_name": "Python 3"
    },
    "accelerator": "GPU"
  },
  "cells": [
    {
      "cell_type": "code",
      "metadata": {
        "id": "A0m3w7PDABuN",
        "colab_type": "code",
        "colab": {}
      },
      "source": [
        "pip install gensim"
      ],
      "execution_count": 0,
      "outputs": []
    },
    {
      "cell_type": "code",
      "metadata": {
        "id": "EWgXdJKhAMtq",
        "colab_type": "code",
        "colab": {}
      },
      "source": [
        "pip install mecab-python3"
      ],
      "execution_count": 0,
      "outputs": []
    },
    {
      "cell_type": "code",
      "metadata": {
        "id": "nZzgFBqpAsRf",
        "colab_type": "code",
        "colab": {}
      },
      "source": [
        "import MeCab\n",
        "wakati = MeCab.Tagger(\"-Owakati\")\n",
        "words = wakati.parse(\"ことしの正月から山梨県、甲府市のまちはずれに小さい家を借り、少しずつ貧しい仕事をすすめてもう、はや半年すぎてしまった。\").split()\n",
        "print(words)"
      ],
      "execution_count": 0,
      "outputs": []
    }
  ]
}