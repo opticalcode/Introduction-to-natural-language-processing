{
  "nbformat": 4,
  "nbformat_minor": 0,
  "metadata": {
    "colab": {
      "name": "すももの分かち.ipynb",
      "provenance": [],
      "include_colab_link": true
    },
    "kernelspec": {
      "name": "python3",
      "display_name": "Python 3"
    },
    "language_info": {
      "codemirror_mode": {
        "name": "ipython",
        "version": 3
      },
      "file_extension": ".py",
      "mimetype": "text/x-python",
      "name": "python",
      "nbconvert_exporter": "python",
      "pygments_lexer": "ipython3",
      "version": "3.7.4"
    }
  },
  "cells": [
    {
      "cell_type": "markdown",
      "metadata": {
        "id": "view-in-github",
        "colab_type": "text"
      },
      "source": [
        "<a href=\"https://colab.research.google.com/github/opticalcode/Introduction-to-natural-language-processing/blob/master/%E3%81%99%E3%82%82%E3%82%82%E3%81%AE%E5%88%86%E3%81%8B%E3%81%A1.ipynb\" target=\"_parent\"><img src=\"https://colab.research.google.com/assets/colab-badge.svg\" alt=\"Open In Colab\"/></a>"
      ]
    },
    {
      "cell_type": "code",
      "metadata": {
        "colab_type": "code",
        "id": "q3SUeg04GzFa",
        "colab": {}
      },
      "source": [
        "pip install mecab-python3"
      ],
      "execution_count": 0,
      "outputs": []
    },
    {
      "cell_type": "code",
      "metadata": {
        "colab_type": "code",
        "id": "nmPP9ziAHDRL",
        "colab": {}
      },
      "source": [
        "import MeCab"
      ],
      "execution_count": 0,
      "outputs": []
    },
    {
      "cell_type": "code",
      "metadata": {
        "colab_type": "code",
        "id": "CgxERwyFHFgC",
        "colab": {}
      },
      "source": [
        "import MeCab\n",
        "wakati = MeCab.Tagger(\"-Owakati\")\n",
        "words = wakati.parse(\"すもももももももものうち\").split()\n",
        "print(words)"
      ],
      "execution_count": 0,
      "outputs": []
    },
    {
      "cell_type": "code",
      "metadata": {
        "colab_type": "code",
        "id": "47xSqFI9HNAK",
        "colab": {}
      },
      "source": [
        "mecab = MeCab.Tagger (\"-Ochasen\")\n",
        "text = mecab.parse (\"すもももももももものうち\")\n",
        "print(text)"
      ],
      "execution_count": 0,
      "outputs": []
    }
  ]
}